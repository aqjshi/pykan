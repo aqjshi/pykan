{
 "cells": [
  {
   "cell_type": "code",
   "execution_count": 1,
   "metadata": {},
   "outputs": [],
   "source": [
    "from kan import KAN, LBFGS\n",
    "import torch\n",
    "import matplotlib.pyplot as plt\n",
    "from torch import autograd\n",
    "from tqdm import tqdm\n",
    "import numpy as np\n",
    "from scipy.stats import norm\n",
    "import pandas as pd"
   ]
  },
  {
   "cell_type": "code",
   "execution_count": 16,
   "metadata": {},
   "outputs": [],
   "source": [
    "#variable for the BSDE\n",
    "S = 2\n",
    "T = 1\n",
    "t = 0\n",
    "tau = T-t\n",
    "K = 5\n",
    "sigma = 0.13\n",
    "r = 0.03\n",
    "x = np.log(S)\n",
    "X_max = 2*K\n"
   ]
  },
  {
   "cell_type": "code",
   "execution_count": 17,
   "metadata": {},
   "outputs": [],
   "source": [
    "dim = 2\n",
    "np_i = 100 # number of interior points (along each dimension)\n",
    "np_b = 100 # number of boundary points (along each dimension)\n",
    "ranges_X = [0, X_max]\n",
    "ranges_tau = [0,T]\n"
   ]
  },
  {
   "cell_type": "code",
   "execution_count": 18,
   "metadata": {},
   "outputs": [],
   "source": [
    "def black_scholes(S, K, T, r, sigma):\n",
    "    d1 = (np.log(S / K) + (r + 0.5 * sigma**2) * tau) / (sigma * np.sqrt(tau))\n",
    "    d2 = d1 - sigma * np.sqrt(T)\n",
    "    price = S * norm.cdf(d1) - K * np.exp(-r * tau) * norm.cdf(d2)\n",
    "    \n",
    "\n",
    "    return price"
   ]
  },
  {
   "cell_type": "code",
   "execution_count": 19,
   "metadata": {},
   "outputs": [
    {
     "name": "stdout",
     "output_type": "stream",
     "text": [
      "checkpoint directory created: ./model\n",
      "saving model version 0.0\n"
     ]
    }
   ],
   "source": [
    "model = KAN(width=[2,2,1], grid=5, k=3, grid_eps=1.0, noise_scale=0.25)"
   ]
  },
  {
   "cell_type": "code",
   "execution_count": 20,
   "metadata": {},
   "outputs": [],
   "source": [
    "def batch_jacobian(func, x, create_graph=False):\n",
    "    # x in shape (Batch, Length)\n",
    "    def _func_sum(x):\n",
    "        return func(x).sum(dim=0)\n",
    "    \n",
    "    return autograd.functional.jacobian(_func_sum, x, create_graph=create_graph).permute(1,0,2)\n"
   ]
  },
  {
   "cell_type": "code",
   "execution_count": 21,
   "metadata": {},
   "outputs": [],
   "source": [
    "d1 = lambda x: (x[:, [0]] - np.log(K) + (r + 0.5 * sigma**2) * x[:, [1]]) / (sigma * np.sqrt(x[:, [1]]))\n",
    "d2 = lambda x: d1(x)-sigma*np.sqrt((x[:, [1]]))\n",
    "    "
   ]
  },
  {
   "cell_type": "code",
   "execution_count": 31,
   "metadata": {},
   "outputs": [],
   "source": [
    "# define solution\n",
    "sol_fun = lambda x: np.exp(x[:, [0]]) * norm.cdf(d1(x)) - K * np.exp(-r * x[:, [1]]) * norm.cdf(d2(x))\n",
    "\n",
    "source_fun = lambda x:0\n",
    "x = torch.tensor([[np.log(100), 1], [np.log(110), 0.5]])  # Example initial points\n",
    "\n"
   ]
  },
  {
   "cell_type": "code",
   "execution_count": 32,
   "metadata": {},
   "outputs": [],
   "source": [
    "device = \"cpu\"\n",
    "sampling_mode = 'random'  # Options: 'random' or 'mesh'\n",
    "x_mesh = torch.linspace(ranges_X[0], ranges_X[1], steps=np_i)\n",
    "y_mesh = torch.linspace(ranges_tau[0], ranges_tau[1], steps=np_i)\n",
    "X, Y = torch.meshgrid(x_mesh, y_mesh, indexing=\"ij\")\n",
    "\n",
    "if sampling_mode == 'mesh':\n",
    "    x_i = torch.stack([X.reshape(-1,), Y.reshape(-1,)]).permute(1, 0)\n",
    "else:\n",
    "    x_i = torch.rand((np_i**2, 1), device=device) * (ranges_X[1] - ranges_X[0]) + ranges_X[0]\n",
    "    y_i = torch.rand((np_i**2, 1), device=device) * (ranges_tau[1] - ranges_tau[0]) + ranges_tau[0]\n",
    "    x_i = torch.cat([x_i, y_i], dim=1)\n",
    "\n",
    "# Split into 80% train and 20% test\n",
    "num_train = int(0.8 * x_i.shape[0])\n",
    "indices = torch.randperm(x_i.shape[0])\n",
    "\n",
    "train_indices = indices[:num_train]\n",
    "test_indices = indices[num_train:]\n",
    "\n",
    "x_i_train = x_i[train_indices]\n",
    "x_i_test = x_i[test_indices]"
   ]
  },
  {
   "cell_type": "code",
   "execution_count": 33,
   "metadata": {},
   "outputs": [],
   "source": [
    "helper = lambda X, Y: torch.stack([X.reshape(-1,), Y.reshape(-1,)]).permute(1, 0)\n",
    "xb1 = helper(X[0], Y[1])\n",
    "xb2 = helper(X[-1], Y[0])\n",
    "xb3 = helper(X[:, 0], Y[:, 1])\n",
    "x_b = torch.cat([xb1, xb2, xb3], dim=0)"
   ]
  },
  {
   "cell_type": "code",
   "execution_count": 34,
   "metadata": {},
   "outputs": [],
   "source": [
    "steps = 50\n",
    "alpha = 0.01\n",
    "log = 1"
   ]
  },
  {
   "cell_type": "code",
   "execution_count": 29,
   "metadata": {},
   "outputs": [
    {
     "name": "stderr",
     "output_type": "stream",
     "text": [
      "pde loss: 2.35e+08 | bc loss: 1.08e+06 | l2 train: 2.73e+06 | l2 test: 2.40e+06: 100%|██████████| 50/50 [00:57<00:00,  1.14s/it]\n"
     ]
    }
   ],
   "source": [
    "\n",
    "def train():\n",
    "    optimizer = LBFGS(model.parameters(), lr=1, history_size=10, line_search_fn=\"strong_wolfe\", tolerance_grad=1e-32, tolerance_change=1e-32, tolerance_ys=1e-32)\n",
    "\n",
    "    pbar = tqdm(range(steps), desc='Training')  # Progress bar for training\n",
    "    for _ in pbar:\n",
    "        def closure():\n",
    "            global pde_loss, bc_loss\n",
    "            optimizer.zero_grad()\n",
    "            \n",
    "            # Compute interior loss using training data\n",
    "            sol_train = sol_fun(x_i_train)\n",
    "            sol_D1_fun = lambda x: batch_jacobian(model, x, create_graph=True)[:, 0, :]\n",
    "            sol_D1 = sol_D1_fun(x_i_train)\n",
    "            sol_D2 = batch_jacobian(sol_D1_fun, x_i_train, create_graph=True)[:, :, :]\n",
    "            lap = torch.sum(torch.diagonal(sol_D2, dim1=1, dim2=2), dim=1, keepdim=True)\n",
    "            source = source_fun(x_i_train)\n",
    "            pde_loss = torch.mean((lap - source)**2)\n",
    "\n",
    "            # Compute boundary loss\n",
    "            bc_true = sol_fun(x_b)\n",
    "            bc_pred = model(x_b)\n",
    "            bc_loss = torch.mean((bc_pred - bc_true)**2)\n",
    "            \n",
    "            # Total loss is a weighted sum of PDE loss and boundary loss\n",
    "            loss = alpha * pde_loss + bc_loss\n",
    "            loss.backward()  # Backpropagation\n",
    "            return loss\n",
    "\n",
    "        if _ % 5 == 0 and _ < 50:\n",
    "            model.update_grid_from_samples(x_i_train)  # Update grid from samples during training\n",
    "        \n",
    "        optimizer.step(closure)  # Perform a single optimization step\n",
    "\n",
    "        # Evaluate the model on the training data\n",
    "        sol_train = sol_fun(x_i_train)\n",
    "        l2_train = torch.mean((model(x_i_train) - sol_train)**2)\n",
    "\n",
    "        # Optionally, evaluate the model on the test data\n",
    "        sol_test = sol_fun(x_i_test)\n",
    "        l2_test = torch.mean((model(x_i_test) - sol_test)**2)\n",
    "\n",
    "        if _ % log == 0:\n",
    "            pbar.set_description(\"pde loss: %.2e | bc loss: %.2e | l2 train: %.2e | l2 test: %.2e\" % \n",
    "                                 (pde_loss.cpu().detach().numpy(), \n",
    "                                  bc_loss.cpu().detach().numpy(), \n",
    "                                  l2_train.detach().numpy(),\n",
    "                                  l2_test.detach().numpy()))\n",
    "\n",
    "train()\n"
   ]
  },
  {
   "cell_type": "code",
   "execution_count": 30,
   "metadata": {},
   "outputs": [
    {
     "data": {
      "image/png": "[encoded data removed]",
      "text/plain": [
       "<Figure size 500x400 with 10 Axes>"
      ]
     },
     "metadata": {},
     "output_type": "display_data"
    }
   ],
   "source": [
    "model.plot(beta=10)\n"
   ]
  },
  {
   "cell_type": "code",
   "execution_count": 35,
   "metadata": {},
   "outputs": [
    {
     "name": "stdout",
     "output_type": "stream",
     "text": [
      "  function  fitting r2    r2 loss  complexity  complexity loss  total loss\n",
      "0      cos    0.999501 -10.941370           2                2   -0.588274\n",
      "1      sin    0.999501 -10.941201           2                2   -0.588240\n",
      "2        x    0.987384  -6.307468           1                1   -0.461494\n",
      "3      x^2    0.997857  -8.859139           2                2   -0.171828\n",
      "4      exp    0.997281  -8.517420           2                2   -0.103484\n",
      "  function  fitting r2   r2 loss  complexity  complexity loss  total loss\n",
      "0        0    0.000000  0.000014           0                0    0.000003\n",
      "1        x    0.047580 -0.070315           1                1    0.785937\n",
      "2      sin    0.804497 -2.354664           2                2    1.129067\n",
      "3      cos    0.804236 -2.352736           2                2    1.129453\n",
      "4      x^2    0.636334 -1.459276           2                2    1.308145\n",
      "  function  fitting r2   r2 loss  complexity  complexity loss  total loss\n",
      "0        0    0.000000  0.000014           0                0    0.000003\n",
      "1        x    0.665783 -1.581100           1                1    0.483780\n",
      "2    1/x^2    0.950109 -4.324779           2                2    0.735044\n",
      "3      1/x    0.948545 -4.280254           2                2    0.743949\n",
      "4      exp    0.945447 -4.195940           2                2    0.760812\n",
      "  function  fitting r2   r2 loss  complexity  complexity loss  total loss\n",
      "0        0    0.000000  0.000014           0                0    0.000003\n",
      "1        x    0.778434 -2.174127           1                1    0.365175\n",
      "2      exp    0.907211 -3.429754           2                2    0.914049\n",
      "3    1/x^2    0.904410 -3.386839           2                2    0.922632\n",
      "4      1/x    0.902104 -3.352466           2                2    0.929507\n",
      "  function  fitting r2   r2 loss  complexity  complexity loss  total loss\n",
      "0        0    0.000000  0.000014           0                0    0.000003\n",
      "1        x    0.374070 -0.675904           1                1    0.664819\n",
      "2      exp    0.909824 -3.470959           2                2    0.905808\n",
      "3      cos    0.633219 -1.446968           2                2    1.310606\n",
      "4      x^2    0.564891 -1.200517           2                2    1.359897\n",
      "  function  fitting r2   r2 loss  complexity  complexity loss  total loss\n",
      "0        0    0.000000  0.000014           0                0    0.000003\n",
      "1        x    0.082227 -0.123775           1                1    0.775245\n",
      "2      exp    0.715301 -1.812440           2                2    1.237512\n",
      "3      1/x    0.636565 -1.460193           2                2    1.307961\n",
      "4    1/x^2    0.614915 -1.376715           2                2    1.324657\n"
     ]
    }
   ],
   "source": [
    "\n",
    "for i in range(2):\n",
    "    for j in range(2):\n",
    "        model.suggest_symbolic(0,i,j)\n",
    "\n",
    "for i in range(2):\n",
    "    model.suggest_symbolic(1,i,0)\n"
   ]
  },
  {
   "cell_type": "code",
   "execution_count": 36,
   "metadata": {},
   "outputs": [
    {
     "name": "stderr",
     "output_type": "stream",
     "text": [
      "pde loss: 3.73e+07 | bc loss: 2.36e+05 | l2 train: 6.99e+05 | l2 test: 6.51e+05: 100%|██████████| 50/50 [01:02<00:00,  1.24s/it]\n"
     ]
    }
   ],
   "source": [
    "train()"
   ]
  },
  {
   "cell_type": "code",
   "execution_count": 38,
   "metadata": {},
   "outputs": [
    {
     "data": {
      "text/latex": [
       "$\\displaystyle 96487972443.9997 + 4945.93212890625 e^{- 275.353364168069 \\left(0.328136059084201 - 0.000114565110389787 e^{- 9.16975211831237 \\left(- x_{2} - 0.0638803809346696\\right)^{2}} + e^{- 11.6144623229371 \\left(1 - 0.179366164721365 x_{1}\\right)^{2}}\\right)^{2}} - 96489062400.0 e^{- 1.13633381881283 \\cdot 10^{-5} \\left(-1 + 0.0190227924540188 e^{- 8.34193086920146 \\left(- 0.335512202788853 x_{2} - 1\\right)^{2}} + 0.00331602867942593 e^{- 0.0399999415874694 \\left(- 0.720000718236494 x_{1} - 1\\right)^{2}}\\right)^{2}}$"
      ],
      "text/plain": [
       "96487972443.9997 + 4945.93212890625*exp(-275.353364168069*(0.328136059084201 - 0.000114565110389787*exp(-9.16975211831237*(-x_2 - 0.0638803809346696)**2) + exp(-11.6144623229371*(1 - 0.179366164721365*x_1)**2))**2) - 96489062400.0*exp(-1.13633381881283e-5*(-1 + 0.0190227924540188*exp(-8.34193086920146*(-0.335512202788853*x_2 - 1)**2) + 0.00331602867942593*exp(-0.0399999415874694*(-0.720000718236494*x_1 - 1)**2))**2)"
      ]
     },
     "execution_count": 38,
     "metadata": {},
     "output_type": "execute_result"
    }
   ],
   "source": [
    "formula, var = model.symbolic_formula()\n",
    "formula[0]"
   ]
  },
  {
   "cell_type": "code",
   "execution_count": 39,
   "metadata": {},
   "outputs": [],
   "source": [
    "def complex_function(x1, x2):\n",
    "    term1 = 12396.32324 * np.cosh(\n",
    "        0.00638 * np.cosh(0.03336 * x1 - 3.90791988372803) + \n",
    "        0.00616 * np.cosh(1.20004 * x2 - 0.688) + 1.35846\n",
    "    )\n",
    "    \n",
    "    term2 = 1.12369 * np.cosh(\n",
    "        0.00046 * np.cosh(0.34632 * x1 - 9.82600021362305) + \n",
    "        0.01898 * np.cosh(3.1999980926514 * x2 - 1.68) - 9.7157\n",
    "    )\n",
    "    \n",
    "    result = term1 + term2 - 31222.5589\n",
    "    \n",
    "    return result"
   ]
  },
  {
   "cell_type": "code",
   "execution_count": 41,
   "metadata": {},
   "outputs": [
    {
     "name": "stdout",
     "output_type": "stream",
     "text": [
      "2.6364825580555117e-13\n"
     ]
    }
   ],
   "source": [
    "print(black_scholes(S, K, T, r, sigma))"
   ]
  }
 ],
 "metadata": {
  "kernelspec": {
   "display_name": "KAN",
   "language": "python",
   "name": "python3"
  },
  "language_info": {
   "codemirror_mode": {
    "name": "ipython",
    "version": 3
   },
   "file_extension": ".py",
   "mimetype": "text/x-python",
   "name": "python",
   "nbconvert_exporter": "python",
   "pygments_lexer": "ipython3",
   "version": "3.11.9"
  }
 },
 "nbformat": 4,
 "nbformat_minor": 2
}
