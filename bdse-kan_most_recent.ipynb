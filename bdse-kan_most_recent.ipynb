{
 "cells": [
  {
   "cell_type": "code",
   "execution_count": 1,
   "metadata": {},
   "outputs": [
    {
     "name": "stdout",
     "output_type": "stream",
     "text": [
      "cpu\n"
     ]
    }
   ],
   "source": [
    "from sklearn.model_selection import KFold\n",
    "from kan import KAN, LBFGS\n",
    "import torch\n",
    "import matplotlib.pyplot as plt\n",
    "from torch import autograd\n",
    "from tqdm import tqdm\n",
    "from scipy.stats import norm\n",
    "import numpy as np\n",
    "\n",
    "device = torch.device('cuda' if torch.cuda.is_available() else 'cpu')\n",
    "print(device)"
   ]
  },
  {
   "cell_type": "code",
   "execution_count": 3,
   "metadata": {},
   "outputs": [],
   "source": [
    "\n",
    "# Black-Scholes function for option pricing\n",
    "def black_scholes(S, K, T, r, sigma):\n",
    "    \"\"\"\n",
    "    S: current stock price\n",
    "    K: strike price\n",
    "    T: time to maturity (in years)\n",
    "    r: risk-free interest rate\n",
    "    sigma: volatility of the underlying asset\n",
    "    \"\"\"\n",
    "    # Add small epsilon values to avoid divide-by-zero errors\n",
    "    T = np.maximum(T, 1e-10)\n",
    "    sigma = np.maximum(sigma, 1e-10)\n",
    "\n",
    "    d1 = (np.log(S / K) + (r + 0.5 * sigma**2) * T) / (sigma * np.sqrt(T))\n",
    "    d2 = d1 - sigma * np.sqrt(T)\n",
    "    \n",
    "    price = S * norm.cdf(d1) - K * np.exp(-r * T) * norm.cdf(d2)\n",
    "    \n",
    "    return price\n"
   ]
  },
  {
   "cell_type": "code",
   "execution_count": 4,
   "metadata": {},
   "outputs": [],
   "source": [
    "\n",
    "# Define the Black-Scholes analytical solution function\n",
    "def sol_fun(x):\n",
    "    S = x[:, 0]  # Stock price\n",
    "    t = x[:, 1]  # Time\n",
    "    K = 100  # Strike price\n",
    "    r = 0.05  # Risk-free interest rate\n",
    "    sigma = 0.2  # Volatility\n",
    "    T = 1  # Time to maturity (can be adjusted)\n",
    "\n",
    "    # Time to maturity is T - t\n",
    "    tau = T - t\n",
    "\n",
    "    # Use the Black-Scholes formula to get the price\n",
    "    price = black_scholes(S.cpu().numpy(), K, tau.cpu().numpy(), r, sigma)\n",
    "    \n",
    "    return torch.tensor(price, dtype=torch.float32).reshape(-1, 1).to(device)"
   ]
  },
  {
   "cell_type": "code",
   "execution_count": 5,
   "metadata": {},
   "outputs": [],
   "source": [
    "\n",
    "# Source function for the Black-Scholes PDE is zero\n",
    "source_fun = lambda x: torch.zeros_like(x[:, [0]]).to(device)\n"
   ]
  },
  {
   "cell_type": "code",
   "execution_count": 6,
   "metadata": {},
   "outputs": [],
   "source": [
    "\n",
    "# Interior points (Stock prices and Time)\n",
    "np_i = 51  # You can change this based on grid resolution\n",
    "\n",
    "S_mesh = torch.linspace(50, 150, steps=np_i)  # Stock prices from 50 to 150\n",
    "t_mesh = torch.linspace(0, 1, steps=np_i)  # Time from 0 to 1 (year)\n",
    "S_grid, t_grid = torch.meshgrid(S_mesh, t_mesh, indexing=\"ij\")\n",
    "\n",
    "x_i = torch.stack([S_grid.reshape(-1,), t_grid.reshape(-1,)]).permute(1, 0).to(device)"
   ]
  },
  {
   "cell_type": "code",
   "execution_count": 7,
   "metadata": {},
   "outputs": [],
   "source": [
    "def batch_jacobian(func, x, create_graph=False):\n",
    "    # x in shape (Batch, Length)\n",
    "    def _func_sum(x):\n",
    "        return func(x).sum(dim=0)\n",
    "    return autograd.functional.jacobian(_func_sum, x, create_graph=create_graph).permute(1,0,2)"
   ]
  },
  {
   "cell_type": "code",
   "execution_count": 8,
   "metadata": {},
   "outputs": [],
   "source": [
    "\n",
    "# boundary, 4 sides\n",
    "helper = lambda X, Y: torch.stack([X.reshape(-1,), Y.reshape(-1,)]).permute(1, 0)\n",
    "xb1 = helper(S_grid[0], t_grid[0])\n",
    "xb2 = helper(S_grid[-1], t_grid[0])\n",
    "xb3 = helper(S_grid[:, 0], t_grid[:, 0])\n",
    "xb4 = helper(S_grid[:, 0], t_grid[:, -1])\n",
    "x_b = torch.cat([xb1, xb2, xb3, xb4], dim=0).to(device)"
   ]
  },
  {
   "cell_type": "code",
   "execution_count": 11,
   "metadata": {},
   "outputs": [],
   "source": [
    "\n",
    "# Split interior points into train and test sets (80/20)\n",
    "train_size = int(0.8 * x_i.size(0))\n",
    "test_size = x_i.size(0) - train_size\n",
    "\n",
    "indices = torch.randperm(x_i.size(0))\n",
    "train_indices = indices[:train_size]\n",
    "test_indices = indices[train_size:]\n",
    "\n",
    "x_train_full = x_i[train_indices]\n",
    "x_test = x_i[test_indices]\n",
    "\n",
    "# K-Fold Cross Validation setup\n",
    "kf = KFold(n_splits=3, shuffle=True)"
   ]
  },
  {
   "cell_type": "code",
   "execution_count": 12,
   "metadata": {},
   "outputs": [
    {
     "name": "stdout",
     "output_type": "stream",
     "text": [
      "Fold 1\n",
      "checkpoint directory created: ./model\n",
      "saving model version 0.0\n"
     ]
    },
    {
     "name": "stderr",
     "output_type": "stream",
     "text": [
      "Fold 1 | pde loss: 9.13e+00 | bc loss: 2.08e-01 | l2: 2.15e-01: 100%|█| 50/50 [00:34<00:00,  1.46it/\n"
     ]
    },
    {
     "name": "stdout",
     "output_type": "stream",
     "text": [
      "Validation L2 loss for Fold 1: 0.21608692407608032\n"
     ]
    },
    {
     "name": "stderr",
     "output_type": "stream",
     "text": [
      "Fold 1 | pde loss: 1.40e+00 | bc loss: 4.50e-02 | l2: 1.26e-01: 100%|█| 50/50 [00:34<00:00,  1.44it/\n"
     ]
    },
    {
     "name": "stdout",
     "output_type": "stream",
     "text": [
      "Validation L2 loss for Fold 1: 0.12668825685977936\n"
     ]
    },
    {
     "name": "stderr",
     "output_type": "stream",
     "text": [
      "Fold 1 | pde loss: 1.07e+00 | bc loss: 1.70e-02 | l2: 1.08e-01: 100%|█| 50/50 [00:44<00:00,  1.13it/\n"
     ]
    },
    {
     "name": "stdout",
     "output_type": "stream",
     "text": [
      "Validation L2 loss for Fold 1: 0.11815261095762253\n",
      "Fold 2\n",
      "checkpoint directory created: ./model\n",
      "saving model version 0.0\n"
     ]
    },
    {
     "name": "stderr",
     "output_type": "stream",
     "text": [
      "Fold 2 | pde loss: 1.79e+00 | bc loss: 1.91e-01 | l2: 1.45e-01: 100%|█| 50/50 [00:33<00:00,  1.49it/\n"
     ]
    },
    {
     "name": "stdout",
     "output_type": "stream",
     "text": [
      "Validation L2 loss for Fold 2: 0.14470957219600677\n"
     ]
    },
    {
     "name": "stderr",
     "output_type": "stream",
     "text": [
      "Fold 2 | pde loss: 1.29e+00 | bc loss: 1.72e-02 | l2: 9.80e-02: 100%|█| 50/50 [00:38<00:00,  1.31it/\n"
     ]
    },
    {
     "name": "stdout",
     "output_type": "stream",
     "text": [
      "Validation L2 loss for Fold 2: 0.0917709693312645\n"
     ]
    },
    {
     "name": "stderr",
     "output_type": "stream",
     "text": [
      "Fold 2 | pde loss: 1.17e+00 | bc loss: 6.18e-03 | l2: 9.59e-02: 100%|█| 50/50 [00:46<00:00,  1.07it/\n"
     ]
    },
    {
     "name": "stdout",
     "output_type": "stream",
     "text": [
      "Validation L2 loss for Fold 2: 0.08729240298271179\n",
      "Fold 3\n",
      "checkpoint directory created: ./model\n",
      "saving model version 0.0\n"
     ]
    },
    {
     "name": "stderr",
     "output_type": "stream",
     "text": [
      "Fold 3 | pde loss: 1.02e+01 | bc loss: 2.56e-01 | l2: 2.65e-01: 100%|█| 50/50 [00:40<00:00,  1.25it/\n"
     ]
    },
    {
     "name": "stdout",
     "output_type": "stream",
     "text": [
      "Validation L2 loss for Fold 3: 0.24806664884090424\n"
     ]
    },
    {
     "name": "stderr",
     "output_type": "stream",
     "text": [
      "Fold 3 | pde loss: 9.55e+00 | bc loss: 5.66e-02 | l2: 1.35e-01: 100%|█| 50/50 [00:37<00:00,  1.33it/\n"
     ]
    },
    {
     "name": "stdout",
     "output_type": "stream",
     "text": [
      "Validation L2 loss for Fold 3: 0.13505570590496063\n"
     ]
    },
    {
     "name": "stderr",
     "output_type": "stream",
     "text": [
      "Fold 3 | pde loss: 9.44e+00 | bc loss: 3.45e-02 | l2: 1.30e-01: 100%|█| 50/50 [00:25<00:00,  1.96it/"
     ]
    },
    {
     "name": "stdout",
     "output_type": "stream",
     "text": [
      "Validation L2 loss for Fold 3: 0.127068430185318\n"
     ]
    },
    {
     "name": "stderr",
     "output_type": "stream",
     "text": [
      "\n"
     ]
    }
   ],
   "source": [
    "\n",
    "alpha = 0.01\n",
    "log = 1\n",
    "\n",
    "grids = [5, 10, 20]\n",
    "steps = 50\n",
    "\n",
    "pde_losses = []\n",
    "bc_losses = []\n",
    "l2_losses = []\n",
    "\n",
    "for fold, (train_idx, val_idx) in enumerate(kf.split(x_train_full)):\n",
    "    print(f'Fold {fold+1}')\n",
    "\n",
    "    x_train = x_train_full[train_idx]\n",
    "    x_val = x_train_full[val_idx]\n",
    "\n",
    "    for grid in grids:\n",
    "        if grid == grids[0]:\n",
    "            model = KAN(width=[2, 2, 1], grid=grid, k=3, seed=1, device=device)\n",
    "            model = model.speed()\n",
    "        else:\n",
    "            model.save_act = True\n",
    "            model.get_act(x_train)\n",
    "            model = model.refine(grid)\n",
    "            model = model.speed()\n",
    "\n",
    "        def train():\n",
    "            optimizer = LBFGS(model.parameters(), lr=1, history_size=10, line_search_fn=\"strong_wolfe\", tolerance_grad=1e-32, tolerance_change=1e-32, tolerance_ys=1e-32)\n",
    "\n",
    "            pbar = tqdm(range(steps), desc=f'Fold {fold+1} | Training', ncols=100)\n",
    "\n",
    "            for _ in pbar:\n",
    "                def closure():\n",
    "                    global pde_loss, bc_loss\n",
    "                    optimizer.zero_grad()\n",
    "\n",
    "                    # Compute the solution using the Black-Scholes formula\n",
    "                    sol = sol_fun(x_train)\n",
    "\n",
    "                    # First-order and second-order derivatives\n",
    "                    sol_D1_fun = lambda x: batch_jacobian(model, x, create_graph=True)[:, 0, :]\n",
    "                    sol_D1 = sol_D1_fun(x_train)\n",
    "                    sol_D2 = batch_jacobian(sol_D1_fun, x_train, create_graph=True)[:, :, :]\n",
    "\n",
    "                    # Laplacian calculation (finite difference for derivatives)\n",
    "                    delta_t = 1.0 / (np_i - 1)  # Assuming equal spacing\n",
    "                    delta_S = (S_mesh[-1] - S_mesh[0]) / (np_i - 1)\n",
    "\n",
    "                    pdf_pdt = (sol_D1[:, 1] - sol_fun(x_train)[:, 0]) / delta_t\n",
    "\n",
    "                    pdf_pds = 0.5 * (\n",
    "                        (sol_fun(x_train[1:, 1:]) - sol_fun(x_train[:-1, 1:])) / delta_S +\n",
    "                        (sol_fun(x_train[:, 1:]) - sol_fun(x_train[:, :-1])) / delta_S\n",
    "                    )\n",
    "\n",
    "                    pd2f_pds2 = (\n",
    "                        (sol_fun(x_train[1:, 1:]) + sol_fun(x_train[:-1, :-1]) - 2 * sol_fun(x_train[:, :-1])) / delta_S**2\n",
    "                    )\n",
    "\n",
    "                    lap = pdf_pdt + pdf_pds + pd2f_pds2\n",
    "\n",
    "                    source = source_fun(x_train)  # Zero source\n",
    "                    pde_loss = torch.mean((lap - source) ** 2)\n",
    "\n",
    "                    # Boundary condition loss\n",
    "                    bc_true = sol_fun(x_b)\n",
    "                    bc_pred = model(x_b)\n",
    "                    bc_loss = torch.mean((bc_pred - bc_true) ** 2)\n",
    "\n",
    "                    # Overall loss\n",
    "                    loss = alpha * pde_loss + bc_loss\n",
    "                    loss.backward()\n",
    "                    return loss\n",
    "\n",
    "\n",
    "                if _ % 5 == 0 and _ < 20:\n",
    "                    model.update_grid_from_samples(x_train)\n",
    "\n",
    "                optimizer.step(closure)\n",
    "                sol = sol_fun(x_train)\n",
    "                loss = alpha * pde_loss + bc_loss\n",
    "                l2 = torch.mean((model(x_train) - sol) ** 2)\n",
    "\n",
    "                if _ % log == 0:\n",
    "                    pbar.set_description(f\"Fold {fold+1} | pde loss: {pde_loss:.2e} | bc loss: {bc_loss:.2e} | l2: {l2:.2e}\")\n",
    "\n",
    "                pde_losses.append(pde_loss.cpu().detach().numpy())\n",
    "                bc_losses.append(bc_loss.cpu().detach().numpy())\n",
    "                l2_losses.append(l2.cpu().detach().numpy())\n",
    "\n",
    "            # Validation loss calculation\n",
    "            model.eval()\n",
    "            with torch.no_grad():\n",
    "                val_sol = sol_fun(x_val)\n",
    "                val_l2 = torch.mean((model(x_val) - val_sol) ** 2)\n",
    "                print(f\"Validation L2 loss for Fold {fold+1}: {val_l2}\")\n",
    "\n",
    "        train()"
   ]
  },
  {
   "cell_type": "code",
   "execution_count": 15,
   "metadata": {},
   "outputs": [
    {
     "name": "stdout",
     "output_type": "stream",
     "text": [
      "Final Test L2 loss: 0.13152223825454712\n"
     ]
    }
   ],
   "source": [
    "model.save_act = True  # This saves the activations\n",
    "model.get_act(x_train)  # Activations should be computed for the training data\n",
    "\n",
    "# After K-Fold cross-validation, evaluate on the test set\n",
    "model.eval()\n",
    "with torch.no_grad():\n",
    "    test_sol = sol_fun(x_test)\n",
    "    test_l2 = torch.mean((model(x_test) - test_sol) ** 2)\n",
    "    print(f\"Final Test L2 loss: {test_l2}\")\n"
   ]
  },
  {
   "cell_type": "code",
   "execution_count": 19,
   "metadata": {},
   "outputs": [
    {
     "data": {
      "image/png": "[encoded data removed]",
      "text/plain": [
       "<Figure size 640x480 with 1 Axes>"
      ]
     },
     "metadata": {},
     "output_type": "display_data"
    },
    {
     "name": "stdout",
     "output_type": "stream",
     "text": [
      "    function  fitting r2    r2 loss  complexity  complexity loss  total loss\n",
      "0        exp    0.999778 -12.073788           2                2   -0.814758\n",
      "1        1/x    0.999591 -11.219097           2                2   -0.643819\n",
      "2    1/x^0.5    0.999481 -10.885156           2                2   -0.577031\n",
      "3  1/sqrt(x)    0.999481 -10.885156           2                2   -0.577031\n",
      "4        x^2    0.999415 -10.714342           2                2   -0.542868\n",
      "  function  fitting r2    r2 loss  complexity  complexity loss  total loss\n",
      "0        x    1.000000 -16.584071           1                1   -2.516814\n",
      "1      exp    0.999999 -16.447161           2                2   -1.689432\n",
      "2    1/x^2    0.999997 -16.233324           2                2   -1.646665\n",
      "3      1/x    0.999997 -16.226715           2                2   -1.645343\n",
      "4      cos    0.999970 -14.599607           2                2   -1.319921\n",
      "  function  fitting r2    r2 loss  complexity  complexity loss  total loss\n",
      "0      sin    0.999999 -16.424293           2                2   -1.684859\n",
      "1      cos    0.999999 -16.416751           2                2   -1.683350\n",
      "2      x^2    0.999989 -15.562156           2                2   -1.512431\n",
      "3      exp    0.999953 -14.107044           2                2   -1.221409\n",
      "4    1/x^2    0.999936 -13.714861           2                2   -1.142972\n",
      "    function  fitting r2   r2 loss  complexity  complexity loss  total loss\n",
      "0          x    0.983327 -5.905501           1                1   -0.381100\n",
      "1      x^0.5    0.998914 -9.833227           2                2   -0.366645\n",
      "2       sqrt    0.998914 -9.833227           2                2   -0.366645\n",
      "3        log    0.998475 -9.347392           2                2   -0.269478\n",
      "4  1/sqrt(x)    0.998245 -9.145971           2                2   -0.229194\n",
      "  function  fitting r2   r2 loss  complexity  complexity loss  total loss\n",
      "0        0    0.000000  0.000014           0                0    0.000003\n",
      "1        x    0.821824 -2.488548           1                1    0.302290\n",
      "2      cos    0.985905 -6.147643           2                2    0.370471\n",
      "3      sin    0.985904 -6.147545           2                2    0.370491\n",
      "4      x^2    0.985454 -6.102292           2                2    0.379542\n",
      "  function  fitting r2   r2 loss  complexity  complexity loss  total loss\n",
      "0        0    0.000000  0.000014           0                0    0.000003\n",
      "1      cos    0.966577 -4.902588           2                2    0.619482\n",
      "2      sin    0.966553 -4.901529           2                2    0.619694\n",
      "3        x    0.391935 -0.717679           1                1    0.656464\n",
      "4      x^2    0.571196 -1.221577           2                2    1.355685\n",
      "Generated Symbolic Formula:  [123.08264541626 + 51.7291717529297*exp(-120.133539205488*(-0.0707734265129384 + 0.128205625766355*exp(-0.0623800436611397*(-x_2 - 0.852978931941731)**2) - exp(-0.360047809280687*(-0.0133324502498163*x_1 - 1)**2))**2) - 134.162368774414*exp(-2.56128802871821*(-0.764420006132476 + exp(-0.999999761581435*(0.00400000485777913*x_1 - 1)**2) + 0.0906591369807438*exp(-3.99871979467947*(1 - 0.152024250335225*x_2)**2))**2)]\n",
      "Final Black-Scholes Price: 7.863571569899555\n"
     ]
    }
   ],
   "source": [
    "### Model Plot: Visualizing the Model Results\n",
    "plt.plot(pde_losses, label=\"PDE Loss\")\n",
    "plt.plot(bc_losses, label=\"Boundary Condition Loss\")\n",
    "plt.plot(l2_losses, label=\"L2 Loss\")\n",
    "plt.title(\"Losses over Training Steps\")\n",
    "plt.xlabel(\"Steps\")\n",
    "plt.ylabel(\"Loss\")\n",
    "plt.legend()\n",
    "plt.show()\n",
    "\n",
    "### Generate Symbolic Formula: Defining a Complex Symbolic Function Suggested by the Model\n",
    "# Example of KAN symbolic regression feature\n",
    "for i in range(2):\n",
    "    for j in range(2):\n",
    "        model.suggest_symbolic(0, i, j)\n",
    "\n",
    "for i in range(2):\n",
    "    model.suggest_symbolic(1, i, 0)\n",
    "\n",
    "# Retrieve the generated symbolic formula\n",
    "formula, var = model.symbolic_formula()\n",
    "print(\"Generated Symbolic Formula: \", formula)\n",
    "\n",
    "### Final Black-Scholes Calculation: Prints the Black-Scholes Price Using the Defined Function\n",
    "S = 100  # Example stock price\n",
    "K = 100  # Example strike price\n",
    "T = 1    # Time to maturity\n",
    "r = 0.05 # Risk-free rate\n",
    "sigma = 0.13 # Volatility\n",
    "\n",
    "# Compute Black-Scholes price\n",
    "bs_price = black_scholes(S, K, T, r, sigma)\n",
    "print(f\"Final Black-Scholes Price: {bs_price}\")"
   ]
  },
  {
   "cell_type": "code",
   "execution_count": 17,
   "metadata": {},
   "outputs": [
    {
     "data": {
      "image/png": "[encoded data removed]",
      "text/plain": [
       "<Figure size 500x400 with 10 Axes>"
      ]
     },
     "metadata": {},
     "output_type": "display_data"
    }
   ],
   "source": [
    "model.plot(beta=10)"
   ]
  }
 ],
 "metadata": {
  "kernelspec": {
   "display_name": "gan_env",
   "language": "python",
   "name": "python3"
  },
  "language_info": {
   "codemirror_mode": {
    "name": "ipython",
    "version": 3
   },
   "file_extension": ".py",
   "mimetype": "text/x-python",
   "name": "python",
   "nbconvert_exporter": "python",
   "pygments_lexer": "ipython3",
   "version": "3.10.13"
  }
 },
 "nbformat": 4,
 "nbformat_minor": 2
}
